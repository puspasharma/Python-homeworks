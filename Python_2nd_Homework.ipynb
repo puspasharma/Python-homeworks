{
  "nbformat": 4,
  "nbformat_minor": 0,
  "metadata": {
    "colab": {
      "name": " PUSPA Python Homework(2nd)",
      "provenance": [],
      "collapsed_sections": []
    },
    "kernelspec": {
      "name": "python3",
      "display_name": "Python 3"
    }
  },
  "cells": [
    {
      "cell_type": "markdown",
      "metadata": {
        "id": "01HOs_4qJQYM",
        "colab_type": "text"
      },
      "source": [
        "**TASK**-***1*** "
      ]
    },
    {
      "cell_type": "markdown",
      "metadata": {
        "id": "6Ul_xiNcc-jt",
        "colab_type": "text"
      },
      "source": [
        "Gravitational force between two masses separated by some distance;\n",
        "\n",
        "$F = G \\\\frac{m_1m_2}{r^2}$\n",
        "\n",
        "Gravitational potential of mass at some distance;\n",
        "\n",
        "$V = G \\\\frac{m_1}{r}$\n",
        "\n",
        "Gravitational intensity of a mass at some distance;\n",
        "\n",
        "$g = G \\\\frac{m_1}{r^2}$\n",
        "\n",
        "\n",
        "\n",
        "\n"
      ]
    },
    {
      "cell_type": "markdown",
      "metadata": {
        "id": "XxWSu_Pdga2c",
        "colab_type": "text"
      },
      "source": [
        "#- Create class of these three functions."
      ]
    },
    {
      "cell_type": "code",
      "metadata": {
        "id": "zrZrGVFQfzcf",
        "colab_type": "code",
        "colab": {}
      },
      "source": [
        "class Kg():\n",
        "    def __init__ (self,G,m1,m2,r):\n",
        "        self.G = G\n",
        "        self.m1 = m1\n",
        "        self.m2 = m2\n",
        "    def Force(self,r):\n",
        "        F=self.G*self.m1*self.m2/r**2\n",
        "        return F\n",
        "    def Potential(self,r):\n",
        "        V=self.G*self.m1/r\n",
        "        return V\n",
        "    def Intensity(self,r):\n",
        "        g=self.G*self.m1/r**2\n",
        "        return g\n",
        "\n"
      ],
      "execution_count": null,
      "outputs": []
    },
    {
      "cell_type": "code",
      "metadata": {
        "id": "Dq-nMYCtjCe4",
        "colab_type": "code",
        "colab": {}
      },
      "source": [
        "G=6.67*10e-11\n",
        "m1 = 9.1*10e-31 # in Kg\n",
        "m2 = 1.67*10e-27 # in Kg\n",
        "M=[] #empty list to collect distance r\n",
        "F=[] #empty list to collect force\n",
        "V=[] #empty list to collect potential\n",
        "g=[] #empty list to collect intensity\n",
        "for r in range(10,1000): #for loop\n",
        "    C1= Kg(G,m1,m2,r)\n",
        "    ff=C1.Force(r)\n",
        "    vv=C1.Potential(r)\n",
        "    gg=C1.Intensity(r)\n",
        "    M.append(r)\n",
        "    F.append(ff)\n",
        "    V.append(vv)\n",
        "    g.append(gg)\n",
        "   #print(r)"
      ],
      "execution_count": null,
      "outputs": []
    },
    {
      "cell_type": "code",
      "metadata": {
        "id": "RIAJyPT9V1PK",
        "colab_type": "code",
        "colab": {
          "base_uri": "https://localhost:8080/",
          "height": 326
        },
        "outputId": "ed502140-a4ca-46cb-c564-2f2894de99ae"
      },
      "source": [
        "plt.figure(figsize = [10,10])\n",
        "plt.subplot(2,2,1)\n",
        "plt.plot(F,M)\n",
        "plt.plot(V,M)\n",
        "plt.plot(g,M)"
      ],
      "execution_count": null,
      "outputs": [
        {
          "output_type": "execute_result",
          "data": {
            "text/plain": [
              "[<matplotlib.lines.Line2D at 0x7fe48970dcc0>]"
            ]
          },
          "metadata": {
            "tags": []
          },
          "execution_count": 64
        },
        {
          "output_type": "display_data",
          "data": {
            "image/png": "[encoded data removed]",
            "text/plain": [
              "<Figure size 720x720 with 1 Axes>"
            ]
          },
          "metadata": {
            "tags": [],
            "needs_background": "light"
          }
        }
      ]
    },
    {
      "cell_type": "code",
      "metadata": {
        "id": "pIc5BpaFONV1",
        "colab_type": "code",
        "colab": {
          "base_uri": "https://localhost:8080/",
          "height": 627
        },
        "outputId": "811e2022-47dd-4927-c82f-4e94d2fc141a"
      },
      "source": [
        "plt.figure(figsize = [10,10])\n",
        "plt.subplot(2,2,2)\n",
        "plt.semilogy(M, F, label = 'force')\n",
        "plt.semilogy(M, V, label = 'potential')\n",
        "plt.semilogy(M, g, label = 'intensity')\n",
        "plt.legend()\n",
        "plt.xlabel(r)\n",
        "plt.ylabel('lnF, lnV,lng')\n",
        "plt.subplot(2,2,3)\n",
        "plt.loglog(M,F, label = 'force')\n",
        "plt.loglog(M,V, label = 'potential')\n",
        "plt.loglog(M,g, label = 'intensity')\n",
        "plt.legend()\n",
        "plt.xlabel('lnr')\n",
        "plt.ylabel('lnF,lnV,lng')\n",
        "\n"
      ],
      "execution_count": null,
      "outputs": [
        {
          "output_type": "execute_result",
          "data": {
            "text/plain": [
              "Text(0, 0.5, 'lnF,lnV,lng')"
            ]
          },
          "metadata": {
            "tags": []
          },
          "execution_count": 69
        },
        {
          "output_type": "display_data",
          "data": {
            "image/png": "[encoded data removed]",
            "text/plain": [
              "<Figure size 720x720 with 2 Axes>"
            ]
          },
          "metadata": {
            "tags": [],
            "needs_background": "light"
          }
        }
      ]
    },
    {
      "cell_type": "code",
      "metadata": {
        "id": "ActjrdKcPffp",
        "colab_type": "code",
        "colab": {}
      },
      "source": [
        "data={} #empty dictionary\n",
        "data.update({\"Distance\":M,\"Force\":F,\"Potential\":V,\"Intensity\":g})"
      ],
      "execution_count": null,
      "outputs": []
    },
    {
      "cell_type": "code",
      "metadata": {
        "id": "P-LYJ4RfNZqJ",
        "colab_type": "code",
        "colab": {
          "base_uri": "https://localhost:8080/",
          "height": 272
        },
        "outputId": "fe90529a-56a0-45b3-9d51-46bfd0c20532"
      },
      "source": [
        "import pandas as pd\n",
        "DF=pd.DataFrame(data)\n",
        "print(DF)"
      ],
      "execution_count": null,
      "outputs": [
        {
          "output_type": "stream",
          "text": [
            "     Distance         Force     Potential     Intensity\n",
            "0          10  1.013640e-66  6.069700e-40  6.069700e-41\n",
            "1          11  8.377189e-67  5.517909e-40  5.016281e-41\n",
            "2          12  7.039166e-67  5.058083e-40  4.215069e-41\n",
            "3          13  5.997869e-67  4.669000e-40  3.591538e-41\n",
            "4          14  5.171632e-67  4.335500e-40  3.096786e-41\n",
            "..        ...           ...           ...           ...\n",
            "985       995  1.023853e-70  6.100201e-42  6.130855e-45\n",
            "986       996  1.021798e-70  6.094076e-42  6.118551e-45\n",
            "987       997  1.019749e-70  6.087964e-42  6.106283e-45\n",
            "988       998  1.017707e-70  6.081864e-42  6.094052e-45\n",
            "989       999  1.015670e-70  6.075776e-42  6.081858e-45\n",
            "\n",
            "[990 rows x 4 columns]\n"
          ],
          "name": "stdout"
        }
      ]
    },
    {
      "cell_type": "markdown",
      "metadata": {
        "id": "AQ0FGQyJYs4F",
        "colab_type": "text"
      },
      "source": [
        "# TASK-**2** \n",
        "\n",
        "# **Electrostatic vs Gravitational force**"
      ]
    },
    {
      "cell_type": "markdown",
      "metadata": {
        "id": "wFa3HjKAmsjo",
        "colab_type": "text"
      },
      "source": [
        "  1. Write the suitable code for electrostatic force between two charges and gravitational force between two masses..\n",
        "\n",
        " "
      ]
    },
    {
      "cell_type": "code",
      "metadata": {
        "id": "-X9Dkv5kJH-d",
        "colab_type": "code",
        "colab": {}
      },
      "source": [
        "#Code for electrostatic force between two charges\n",
        "def Coulomb(q1, q2, d):\n",
        "    return((9*(10**9)) * q1 * q2) / d**2"
      ],
      "execution_count": null,
      "outputs": []
    },
    {
      "cell_type": "code",
      "metadata": {
        "id": "az3dnQQ-Kkdc",
        "colab_type": "code",
        "colab": {}
      },
      "source": [
        "#Code for gravitational force between two masses\n",
        "def Gravitation(m1, m2, d):\n",
        "    return((6.67*10e-11) * m1 * m2) / d**2"
      ],
      "execution_count": null,
      "outputs": []
    },
    {
      "cell_type": "markdown",
      "metadata": {
        "id": "XBPRwmf4LZSq",
        "colab_type": "text"
      },
      "source": [
        "2. Calculate the electrostatic force and gravitational force between electron and proton within H - atom and compare them"
      ]
    },
    {
      "cell_type": "code",
      "metadata": {
        "id": "R3rNiCxKLknn",
        "colab_type": "code",
        "colab": {}
      },
      "source": [
        "def Electrostatic(q1, q2, d):\n",
        "    return((9*(10**9)) *q1 *q2) / d**2"
      ],
      "execution_count": null,
      "outputs": []
    },
    {
      "cell_type": "code",
      "metadata": {
        "id": "Ubbr6vpjMf8V",
        "colab_type": "code",
        "colab": {
          "base_uri": "https://localhost:8080/",
          "height": 35
        },
        "outputId": "d7915c53-b29e-4b6f-d27e-d053559f5fbc"
      },
      "source": [
        "Electrostatic(1.6*10e-19,1.6*10e-19,5.29*10e-11) \n",
        "#Here, q1(charge of electron in H-atom) = (1.6*10e-19)C,q2(charge of proton in H-atom) = (1.6*10e-19)C, d(distance between proton and electron in H-atom) = (5.29*10e-11)m"
      ],
      "execution_count": null,
      "outputs": [
        {
          "output_type": "execute_result",
          "data": {
            "text/plain": [
              "8.233246736539678e-08"
            ]
          },
          "metadata": {
            "tags": []
          },
          "execution_count": 23
        }
      ]
    },
    {
      "cell_type": "code",
      "metadata": {
        "id": "Ts-YO5nDOEwU",
        "colab_type": "code",
        "colab": {}
      },
      "source": [
        "def Gravitational(m1, m2, d):\n",
        "    return((6.67*10e-11) *m1 * m2) / d**2"
      ],
      "execution_count": null,
      "outputs": []
    },
    {
      "cell_type": "code",
      "metadata": {
        "id": "Qfv5rQ2xRsAs",
        "colab_type": "code",
        "colab": {
          "base_uri": "https://localhost:8080/",
          "height": 35
        },
        "outputId": "dc42446d-db71-4cf7-d475-13611db691b9"
      },
      "source": [
        "Gravitational(9.11*10e-31,1.67*10e-27,5.29*10e-11)\n",
        "#Here, q1(charge of electron in H-atom) = (9.11*10e-31)kg, q2(mass of proton in H-atom) = (1.67*10e-27)kg, d(distance between proton and electron in H-atom) = (5.29*10e-11)m"
      ],
      "execution_count": null,
      "outputs": [
        {
          "output_type": "execute_result",
          "data": {
            "text/plain": [
              "3.626179830689569e-46"
            ]
          },
          "metadata": {
            "tags": []
          },
          "execution_count": 30
        }
      ]
    },
    {
      "cell_type": "code",
      "metadata": {
        "id": "b7mt_BzyqUTF",
        "colab_type": "code",
        "colab": {}
      },
      "source": [
        "class Comparison():\n",
        "   def __init(self,G,K,m1,m2,q1,q2,r):\n",
        "       self.G = G\n",
        "       self.K = K\n",
        "       self.m1 = m1\n",
        "       self.m2 = m2\n",
        "       self.q1 = q1\n",
        "       self.q2 = q2\n",
        "       self.r = r\n",
        "   def gravforce(self):\n",
        "       F1 = (self.G*self.m1*self.m2)/(self.r**2)\n",
        "       return(F1)\n",
        "   def estatforce(self):\n",
        "       F2 = (self.K*self.q1*self.q2)/(self.r**2)\n",
        "       return F2\n",
        "    "
      ],
      "execution_count": null,
      "outputs": []
    },
    {
      "cell_type": "code",
      "metadata": {
        "id": "NuvjzsS6sH-5",
        "colab_type": "code",
        "colab": {}
      },
      "source": [
        "C = Comparision(6.67e-11,9e9,9.1e-31,1.67e-27,1.6e-19,1.6e-19,5.29e-11)\n",
        "    g = C.gravforce()\n",
        "    e = C.estatforce()\n",
        "    if e > g:\n",
        "        print(Electrostatic force is greater than Gravitatonal force )\n",
        "    else:\n",
        "        print(Gravitational force is greater than Electrostatic force )"
      ],
      "execution_count": null,
      "outputs": []
    },
    {
      "cell_type": "markdown",
      "metadata": {
        "id": "f41WG92mSZtQ",
        "colab_type": "text"
      },
      "source": [
        "**3. Using the lists to calculate the electrostatic and gravitational force between electron and protron for a range of separation**"
      ]
    },
    {
      "cell_type": "code",
      "metadata": {
        "id": "pkJFTRB3Sp_M",
        "colab_type": "code",
        "colab": {}
      },
      "source": [
        "#for electrostatic force\n",
        "def force(d):\n",
        "    q1 = 1.6*10e-19\n",
        "    q2 = 1.6*10e-19\n",
        "    F = ((9*(10**9)) * q1 * q2) / d**2\n",
        "    return F\n"
      ],
      "execution_count": null,
      "outputs": []
    },
    {
      "cell_type": "code",
      "metadata": {
        "id": "QlzAGMW1qX8U",
        "colab_type": "code",
        "colab": {
          "base_uri": "https://localhost:8080/",
          "height": 55
        },
        "outputId": "341d7c29-55ca-4abf-b1d2-c8329ba9e3ef"
      },
      "source": [
        "M = []\n",
        "N = []\n",
        "for d in range(1,10):\n",
        "    M.append(d)\n",
        "    F1 = force(d)\n",
        "    N.append(F1)\n",
        "print(M,N)"
      ],
      "execution_count": null,
      "outputs": [
        {
          "output_type": "stream",
          "text": [
            "[1, 2, 3, 4, 5, 6, 7, 8, 9] [2.3040000000000005e-26, 5.760000000000001e-27, 2.5600000000000006e-27, 1.4400000000000003e-27, 9.216000000000003e-28, 6.400000000000001e-28, 4.702040816326532e-28, 3.6000000000000007e-28, 2.844444444444445e-28]\n"
          ],
          "name": "stdout"
        }
      ]
    },
    {
      "cell_type": "code",
      "metadata": {
        "id": "Db_1C1Afn5Rb",
        "colab_type": "code",
        "colab": {}
      },
      "source": [
        "#for gravitational force\n",
        "def Force(d):\n",
        "    m1 = 9.11*10e-31\n",
        "    m2 = 1.67*10e-27\n",
        "    F = ((6.67*10e-11) * m1 * m2)/d**2\n",
        "    return F"
      ],
      "execution_count": null,
      "outputs": []
    },
    {
      "cell_type": "code",
      "metadata": {
        "id": "6fOkhyysnpaP",
        "colab_type": "code",
        "colab": {
          "base_uri": "https://localhost:8080/",
          "height": 55
        },
        "outputId": "24e624d0-9b5f-4a3a-8f4b-170d8e5d429e"
      },
      "source": [
        "M = []\n",
        "N = []\n",
        "for d in range(1,10):\n",
        "    M.append(d)\n",
        "    F1 = Force(d)\n",
        "    N.append(F1)\n",
        "print(M,N)"
      ],
      "execution_count": null,
      "outputs": [
        {
          "output_type": "stream",
          "text": [
            "[1, 2, 3, 4, 5, 6, 7, 8, 9] [1.0147537899999999e-64, 2.5368844749999997e-65, 1.127504211111111e-65, 6.342211187499999e-66, 4.0590151599999996e-66, 2.8187605277777775e-66, 2.070926102040816e-66, 1.5855527968749998e-66, 1.2527824567901233e-66]\n"
          ],
          "name": "stdout"
        }
      ]
    },
    {
      "cell_type": "markdown",
      "metadata": {
        "id": "cYB5x-w6DZo7",
        "colab_type": "text"
      },
      "source": [
        "\n",
        "4. **Plot the variation of electrostatic and gravitational force between them using matplotlib..**"
      ]
    },
    {
      "cell_type": "code",
      "metadata": {
        "id": "81lqnBifVFRt",
        "colab_type": "code",
        "colab": {}
      },
      "source": [
        "class Variation():\n",
        "    def __init__(self,G,K,m1,m2,q1,q2):\n",
        "        self.G = G\n",
        "        self.K = K\n",
        "        self.m1 = m1 \n",
        "        self.m2 = m2\n",
        "        self.q1 = q1\n",
        "        self.q2 = q2\n",
        "    def f1(self,r):\n",
        "         F1 = (self.G*self.m1*self.m2)/(r**2)\n",
        "         return F1\n",
        "    def f2(self,r):\n",
        "        F2 = (self.K*self.q1*self.q2)/(r**2)\n",
        "        return(F2)"
      ],
      "execution_count": null,
      "outputs": []
    },
    {
      "cell_type": "code",
      "metadata": {
        "id": "6uLarlK1GoJx",
        "colab_type": "code",
        "colab": {}
      },
      "source": [
        "V=Variation(6.67e-11,9e9,9.1e-31,1.67e-27,1.6e-19,1.6e-19)\n",
        "R=[]\n",
        "M=[]\n",
        "N=[]\n",
        "for r in range (1,1000):\n",
        "    g=V.f1(r)\n",
        "    e=V.f2(r)\n",
        "    R.append(r) \n",
        "    M.append(g)\n",
        "    N.append(e)"
      ],
      "execution_count": null,
      "outputs": []
    },
    {
      "cell_type": "code",
      "metadata": {
        "id": "p_iS_Rb8aLPJ",
        "colab_type": "code",
        "colab": {
          "base_uri": "https://localhost:8080/",
          "height": 325
        },
        "outputId": "15a6ebfc-3636-460b-ef98-9a1de7062cb0"
      },
      "source": [
        "import matplotlib.pyplot as plt\n",
        "plt.figure(figsize = [10,10])\n",
        "plt.subplot(2,2,1)\n",
        "plt.plot(R,M, label = \"Electrostatic Force\")\n",
        "plt.plot(R,N, label = \"Gravitational Force\")"
      ],
      "execution_count": null,
      "outputs": [
        {
          "output_type": "execute_result",
          "data": {
            "text/plain": [
              "[<matplotlib.lines.Line2D at 0x7fe4899e9dd8>]"
            ]
          },
          "metadata": {
            "tags": []
          },
          "execution_count": 42
        },
        {
          "output_type": "display_data",
          "data": {
            "image/png": "[encoded data removed]",
            "text/plain": [
              "<Figure size 720x720 with 1 Axes>"
            ]
          },
          "metadata": {
            "tags": [],
            "needs_background": "light"
          }
        }
      ]
    },
    {
      "cell_type": "markdown",
      "metadata": {
        "id": "oF6AcSuicfqE",
        "colab_type": "text"
      },
      "source": [
        "**5. Use semilog and loglog plot for the comparison of the electrostatic and gravitational force..**"
      ]
    },
    {
      "cell_type": "code",
      "metadata": {
        "id": "zWYNKno9dU_3",
        "colab_type": "code",
        "colab": {
          "base_uri": "https://localhost:8080/",
          "height": 643
        },
        "outputId": "b23d18a4-da83-40e1-d96e-50f82e5c0816"
      },
      "source": [
        "plt.figure(figsize = [10,10])\n",
        "plt.subplot(2,2,2)\n",
        "plt.semilogy(R,M, label = \"Electrostatic Force\")\n",
        "plt.semilogy(R,N, label = \"Gravitational Force\")\n",
        "plt.legend()\n",
        "plt.ylabel(\"Electrostatic and Gravitational force\")\n",
        "plt.xlabel(r)\n",
        "plt.title(\"Estat. vs Grav. Force\")\n",
        "plt.subplot(2,2,3)\n",
        "plt.loglog(R,M, label = \"Electrostatic Force\")\n",
        "plt.loglog(R,N, label = \"Gravitational Force\")\n",
        "plt.legend()\n",
        "plt.ylabel(\"Electrostatic and Gravitational Force\")\n",
        "plt.xlabel(r)\n",
        "plt.title(\"Electrostatic vs Gravitational Force\")\n",
        "\n"
      ],
      "execution_count": null,
      "outputs": [
        {
          "output_type": "execute_result",
          "data": {
            "text/plain": [
              "Text(0.5, 1.0, 'Electrostatic vs Gravitational Force')"
            ]
          },
          "metadata": {
            "tags": []
          },
          "execution_count": 46
        },
        {
          "output_type": "display_data",
          "data": {
            "image/png": "[encoded data removed]",
            "text/plain": [
              "<Figure size 720x720 with 2 Axes>"
            ]
          },
          "metadata": {
            "tags": [],
            "needs_background": "light"
          }
        }
      ]
    },
    {
      "cell_type": "code",
      "metadata": {
        "id": "_PJVZ6M025yy",
        "colab_type": "code",
        "colab": {}
      },
      "source": [
        ""
      ],
      "execution_count": null,
      "outputs": []
    }
  ]
}